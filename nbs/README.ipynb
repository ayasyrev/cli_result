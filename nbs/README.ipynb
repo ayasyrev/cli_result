{
 "cells": [
  {
   "cell_type": "markdown",
   "metadata": {},
   "source": [
    "# Cli_results"
   ]
  },
  {
   "cell_type": "markdown",
   "metadata": {},
   "source": [
    "Simple lib to test results or script runs from command line.  "
   ]
  },
  {
   "cell_type": "markdown",
   "metadata": {},
   "source": [
    "[![PyPI - Python Version](https://img.shields.io/pypi/pyversions/cli_result)](https://pypi.org/project/cli_result/)\n",
    "[![PyPI version](https://img.shields.io/pypi/v/cli_result?color=blue)](https://pypi.org/project/cli_result/)  \n",
    "[![Tests](https://github.com/ayasyrev/cli_result/workflows/Tests/badge.svg)](https://github.com/ayasyrev/cli_result/actions?workflow=Tests)  [![Codecov](https://codecov.io/gh/ayasyrev/cli_result/branch/main/graph/badge.svg)](https://codecov.io/gh/ayasyrev/cli_result)  "
   ]
  },
  {
   "cell_type": "markdown",
   "metadata": {},
   "source": [
    "# Install"
   ]
  },
  {
   "cell_type": "markdown",
   "metadata": {},
   "source": [
    "Install from pypi:  \n",
    "\n",
    "`pip install cli_result`\n",
    "\n",
    "Or install from github repo:\n",
    "\n",
    "`pip install git+https://github.com/ayasyrev/cli_result.git`"
   ]
  },
  {
   "cell_type": "markdown",
   "metadata": {},
   "source": [
    "# Usage."
   ]
  },
  {
   "cell_type": "markdown",
   "metadata": {},
   "source": [
    "Main purpose test results of examples run. We run all scripts in examples folder and compare results with expected results. Check it at different python versions.  \n",
    "So we can be sure that all scripts work and has similar behaviors in different python versions.  \n",
    "It's not suitable to run script that supposed to run for a long time or resources are limited.  \n",
    "But it's good for quick tests, to check configs and shorts demos (examples)."
   ]
  },
  {
   "cell_type": "markdown",
   "metadata": {},
   "source": [
    "Put your script in examples folder and expected results in results folder.  \n",
    "Arguments for tests at file name same as script name + `__args.txt.`"
   ]
  },
  {
   "cell_type": "code",
   "execution_count": null,
   "metadata": {},
   "outputs": [],
   "source": [
    "from cli_result.core import check_examples, Cfg"
   ]
  },
  {
   "cell_type": "code",
   "execution_count": null,
   "metadata": {},
   "outputs": [],
   "source": [
    "result = check_examples()"
   ]
  },
  {
   "cell_type": "markdown",
   "metadata": {},
   "source": [
    "This run all scripts in examples folder with arguments from `__args.txt.` file and compare with results at `results/` folder.  "
   ]
  },
  {
   "cell_type": "code",
   "execution_count": null,
   "metadata": {},
   "outputs": [],
   "source": [
    "assert result is None"
   ]
  },
  {
   "cell_type": "code",
   "execution_count": null,
   "metadata": {},
   "outputs": [],
   "source": []
  }
 ],
 "metadata": {
  "language_info": {
   "name": "python"
  }
 },
 "nbformat": 4,
 "nbformat_minor": 2
}
