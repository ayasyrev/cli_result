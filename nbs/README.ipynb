{
 "cells": [
  {
   "cell_type": "markdown",
   "metadata": {},
   "source": [
    "# Cli_results"
   ]
  },
  {
   "cell_type": "markdown",
   "metadata": {},
   "source": [
    "Simple lib to test results or script runs from command line.  "
   ]
  },
  {
   "cell_type": "markdown",
   "metadata": {},
   "source": [
    "[![PyPI - Python Version](https://img.shields.io/pypi/pyversions/cli_result)](https://pypi.org/project/cli_result/)\n",
    "[![PyPI version](https://img.shields.io/pypi/v/cli_result?color=blue)](https://pypi.org/project/cli_result/)  \n",
    "[![Tests](https://github.com/ayasyrev/cli_result/workflows/Tests/badge.svg)](https://github.com/ayasyrev/cli_result/actions?workflow=Tests)  [![Codecov](https://codecov.io/gh/ayasyrev/cli_result/branch/main/graph/badge.svg)](https://codecov.io/gh/ayasyrev/cli_result)  "
   ]
  },
  {
   "cell_type": "markdown",
   "metadata": {},
   "source": [
    "## Install"
   ]
  },
  {
   "cell_type": "markdown",
   "metadata": {},
   "source": [
    "Install from pypi:  \n",
    "\n",
    "`pip install cli_result`\n",
    "\n",
    "Or install from github repo:\n",
    "\n",
    "`pip install git+https://github.com/ayasyrev/cli_result.git`"
   ]
  },
  {
   "cell_type": "markdown",
   "metadata": {},
   "source": [
    "## Usage."
   ]
  },
  {
   "cell_type": "markdown",
   "metadata": {},
   "source": [
    "Main purpose test results of examples run. We run all scripts in examples folder and compare results with expected results. Check it at different python versions.  \n",
    "So we can be sure that all scripts work and has similar behaviors in different python versions.  \n",
    "It's not suitable to run script that supposed to run for a long time or resources are limited.  \n",
    "But it's good for quick tests, to check configs and shorts demos (examples)."
   ]
  },
  {
   "cell_type": "markdown",
   "metadata": {},
   "source": [
    "Put your script in examples folder and expected results in results folder.  \n",
    "Arguments for tests at file name same as script name + `__args.txt.`"
   ]
  },
  {
   "cell_type": "code",
   "execution_count": null,
   "metadata": {},
   "outputs": [],
   "source": [
    "from cli_result import check_examples, Cfg"
   ]
  },
  {
   "cell_type": "code",
   "execution_count": null,
   "metadata": {},
   "outputs": [],
   "source": [
    "result = check_examples()"
   ]
  },
  {
   "cell_type": "markdown",
   "metadata": {},
   "source": [
    "This run all scripts in examples folder with arguments from `__args.txt` file and compare with results at `results/` folder.  "
   ]
  },
  {
   "cell_type": "code",
   "execution_count": null,
   "metadata": {},
   "outputs": [],
   "source": [
    "assert result is None"
   ]
  },
  {
   "cell_type": "markdown",
   "metadata": {},
   "source": [
    "## Examples"
   ]
  },
  {
   "cell_type": "markdown",
   "metadata": {},
   "source": [
    "We can change examples folder."
   ]
  },
  {
   "cell_type": "code",
   "execution_count": null,
   "metadata": {},
   "outputs": [],
   "source": [
    "cfg = Cfg(examples_path=\"../examples/examples_extra/\")"
   ]
  },
  {
   "cell_type": "markdown",
   "metadata": {},
   "source": [
    "Check examples at folder:"
   ]
  },
  {
   "cell_type": "code",
   "execution_count": null,
   "metadata": {},
   "outputs": [],
   "source": [
    "from cli_result import  get_examples\n",
    "\n",
    "examples = get_examples(cfg=cfg)"
   ]
  },
  {
   "cell_type": "markdown",
   "metadata": {},
   "source": [
    "We got list of examples as tuple example_name, files"
   ]
  },
  {
   "cell_type": "code",
   "execution_count": null,
   "metadata": {},
   "outputs": [
    {
     "name": "stdout",
     "output_type": "stream",
     "text": [
      "example_extra_1\n",
      "../examples/examples_extra/example_extra_1.py\n",
      "../examples/examples_extra/example_extra_1__alter.py\n"
     ]
    }
   ],
   "source": [
    "example = examples[0]\n",
    "# name\n",
    "print(example[0])\n",
    "# files\n",
    "print(example[1][0])\n",
    "print(example[1][1])"
   ]
  },
  {
   "cell_type": "markdown",
   "metadata": {},
   "source": [
    "## Run script"
   ]
  },
  {
   "cell_type": "markdown",
   "metadata": {},
   "source": [
    "We can run script and look at result."
   ]
  },
  {
   "cell_type": "code",
   "execution_count": null,
   "metadata": {},
   "outputs": [],
   "source": [
    "from cli_result import  run_script\n",
    "\n",
    "res, err = run_script(\n",
    "    filename=example[1][0],\n",
    "    args=\"--help\",\n",
    ")"
   ]
  },
  {
   "cell_type": "code",
   "execution_count": null,
   "metadata": {},
   "outputs": [
    {
     "name": "stdout",
     "output_type": "stream",
     "text": [
      "usage: example_extra_1.py [-h] [--echo ECHO]\n",
      "\n",
      "options:\n",
      "  -h, --help   show this help message and exit\n",
      "  --echo ECHO\n",
      "\n"
     ]
    }
   ],
   "source": [
    "print(res)"
   ]
  },
  {
   "cell_type": "code",
   "execution_count": null,
   "metadata": {},
   "outputs": [],
   "source": [
    "assert err == \"\""
   ]
  },
  {
   "cell_type": "markdown",
   "metadata": {},
   "source": [
    "## Check one example."
   ]
  },
  {
   "cell_type": "markdown",
   "metadata": {},
   "source": [
    "We can check one example."
   ]
  },
  {
   "cell_type": "code",
   "execution_count": null,
   "metadata": {},
   "outputs": [],
   "source": [
    "from cli_result import run_check_example\n",
    "\n",
    "result = run_check_example(\n",
    "    experiment_name=example[0],\n",
    "    file_list=example[1],\n",
    "    cfg=cfg,\n",
    ")\n",
    "assert result is None"
   ]
  },
  {
   "cell_type": "markdown",
   "metadata": {},
   "source": [
    "Alternatively we can check one as:"
   ]
  },
  {
   "cell_type": "code",
   "execution_count": null,
   "metadata": {},
   "outputs": [],
   "source": [
    "result = check_examples(\n",
    "    names=example[0],  # we can send list of names as [name1, name2, ...]\n",
    "    cfg=cfg,\n",
    ")\n",
    "assert result is None"
   ]
  },
  {
   "cell_type": "markdown",
   "metadata": {},
   "source": [
    "## Check all examples."
   ]
  },
  {
   "cell_type": "markdown",
   "metadata": {},
   "source": [
    "Or check all examples."
   ]
  },
  {
   "cell_type": "code",
   "execution_count": null,
   "metadata": {},
   "outputs": [],
   "source": [
    "result = check_examples(cfg=cfg)\n",
    "assert result is None"
   ]
  },
  {
   "cell_type": "markdown",
   "metadata": {},
   "source": [
    "## Check errors"
   ]
  },
  {
   "cell_type": "markdown",
   "metadata": {},
   "source": [
    "Lets look at example with error."
   ]
  },
  {
   "cell_type": "code",
   "execution_count": null,
   "metadata": {},
   "outputs": [
    {
     "name": "stdout",
     "output_type": "stream",
     "text": [
      "Examples with errors: 1, example_extra_1: 6 errors\n"
     ]
    }
   ],
   "source": [
    "cfg = Cfg(examples_path=\"../tests/examples/examples_errors/\")\n",
    "\n",
    "result = check_examples(cfg=cfg)\n",
    "assert result is not None\n",
    "print(f\"Examples with errors: {len(result)}, {examples[0][0]}: {len(result[0][1])} errors\")"
   ]
  },
  {
   "cell_type": "markdown",
   "metadata": {},
   "source": [
    "Let look at one of errors.  \n",
    "We got file name that has error, result of run and expected result. Now we can look for what is wrong."
   ]
  },
  {
   "cell_type": "code",
   "execution_count": null,
   "metadata": {},
   "outputs": [
    {
     "data": {
      "text/plain": [
       "('help',\n",
       " [('../tests/examples/examples_errors/exmpl_1__err_1.py',\n",
       "   ['usage: exmpl_1__err_1.py [-h] [--e E]\\n\\noptions:\\n  -h, --help  show this help message and exit\\n  --e E\\n',\n",
       "    'usage: exmpl_1.py [-h] [--echo ECHO]\\n\\noptions:\\n  -h, --help   show this help message and exit\\n  --echo ECHO\\n'])])"
      ]
     },
     "execution_count": null,
     "metadata": {},
     "output_type": "execute_result"
    }
   ],
   "source": [
    "result[0][1][0]"
   ]
  },
  {
   "cell_type": "code",
   "execution_count": null,
   "metadata": {},
   "outputs": [],
   "source": []
  }
 ],
 "metadata": {
  "language_info": {
   "name": "python"
  }
 },
 "nbformat": 4,
 "nbformat_minor": 2
}
